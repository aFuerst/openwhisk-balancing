{
 "cells": [
  {
   "cell_type": "code",
   "execution_count": 15,
   "metadata": {},
   "outputs": [],
   "source": [
    "import pandas as pd\n",
    "import numpy as np\n",
    "import os,sys \n",
    "import matplotlib \n",
    "import matplotlib.pyplot as plt\n",
    "import load.wsk_interact as wsk"
   ]
  },
  {
   "cell_type": "code",
   "execution_count": 16,
   "metadata": {},
   "outputs": [],
   "source": [
    "# Read the two CSVs\n",
    "# For each function: make a list of its invocation times?\n",
    "# Compare these metrics in some way and visualize. Sort by function frequency? "
   ]
  },
  {
   "cell_type": "code",
   "execution_count": 17,
   "metadata": {},
   "outputs": [],
   "source": [
    "pp='./run-scripts/logs/compare-algos/'\n",
    "f1='10-mins-5.5-18-BoundedLoad-SimpleLoad/latencies.csv'\n",
    "f2='10-mins-5.5-18-ConsistentCache-SimpleLoad/latencies.csv'\n",
    "f4='10-mins-5.5-18-MemoryShard/latencies.csv'\n",
    "f5='10-mins-5.5-18-RoundRobin-SimpleLoad/latencies.csv'\n"
   ]
  },
  {
   "cell_type": "code",
   "execution_count": 18,
   "metadata": {},
   "outputs": [],
   "source": [
    "out=[]\n",
    "tmp = pd.read_csv(os.path.join(pp, f1))\n",
    "func_names = tmp[\"lambda\"].unique()\n",
    "for warm_time, k in zip(wsk.warm_times, wsk.actions):\n",
    "  for name in func_names:\n",
    "    if k in name:\n",
    "      out.append((name,warm_time))\n"
   ]
  },
  {
   "cell_type": "code",
   "execution_count": 19,
   "metadata": {},
   "outputs": [],
   "source": [
    "warm_times = pd.DataFrame(out,columns=['lambda',\"warm\"])"
   ]
  },
  {
   "cell_type": "code",
   "execution_count": 20,
   "metadata": {},
   "outputs": [],
   "source": [
    "def mean_lats_per_fn(expf):\n",
    "    df = pd.read_csv(os.path.join(pp, expf), header=0, names=[\"lambda\", \"was_cold\", \"latency\", \"activationid\"])\n",
    "    ldf = df[['lambda', 'latency']]\n",
    "    lgrps = ldf.groupby(['lambda'])\n",
    "    #Also need the length of the list for correct normalization? \n",
    "    mean_lats = lgrps.mean()\n",
    "    return mean_lats, lgrps, ldf, df "
   ]
  },
  {
   "cell_type": "code",
   "execution_count": 21,
   "metadata": {},
   "outputs": [],
   "source": [
    "def cmp_lats(f1, f2):\n",
    "    \"\"\" Given two configs, compare the raw mean latencies for each function \"\"\"\n",
    "    m1 = mean_lats_per_fn(f1)[0]\n",
    "    m2 = mean_lats_per_fn(f2)[0]\n",
    "    merged = m1.merge(m2,on='lambda')\n",
    "    merged['ldiff'] = pd.Series(merged['latency_y']-merged['latency_x'], index=merged.index)\n",
    "    return merged "
   ]
  },
  {
   "cell_type": "code",
   "execution_count": 22,
   "metadata": {},
   "outputs": [],
   "source": [
    "def Wnorms(expf):\n",
    "    mean_lats, lgrps, ldf, df = mean_lats_per_fn(expf)\n",
    "    mean_warm = mean_lats.merge(warm_times,on='lambda')\n",
    "    mean_warm['norm'] = pd.Series(mean_warm['latency']/mean_warm['warm'], index=mean_warm.index)\n",
    "    \n",
    "    counts = lgrps.count()\n",
    "    counts = counts.rename(columns={'latency':'counts'})\n",
    "    mean_warm = mean_warm.merge(counts, on='lambda')\n",
    "    C=sum(mean_warm['counts'])\n",
    "    mean_warm['Wnorm']=pd.Series(mean_warm['norm']*mean_warm['counts']/C, index=mean_warm.index)\n",
    "    \n",
    "    return mean_warm\n",
    "    #sum(mean_warm['Wnorm'])"
   ]
  },
  {
   "cell_type": "code",
   "execution_count": 23,
   "metadata": {},
   "outputs": [],
   "source": [
    "from statsmodels.distributions.empirical_distribution import ECDF"
   ]
  },
  {
   "cell_type": "code",
   "execution_count": 24,
   "metadata": {},
   "outputs": [
    {
     "data": {
      "text/plain": [
       "5922.817559930408"
      ]
     },
     "execution_count": 24,
     "metadata": {},
     "output_type": "execute_result"
    }
   ],
   "source": [
    "bounded=Wnorms(f1)\n",
    "sum(bounded['Wnorm'])"
   ]
  },
  {
   "cell_type": "code",
   "execution_count": 25,
   "metadata": {},
   "outputs": [
    {
     "data": {
      "text/plain": [
       "1008.1641241962476"
      ]
     },
     "execution_count": 25,
     "metadata": {},
     "output_type": "execute_result"
    }
   ],
   "source": [
    "cache=Wnorms(f2)\n",
    "#np.sort(np.array(b['Wnorm']))\n",
    "sum(cache['Wnorm'])"
   ]
  },
  {
   "cell_type": "code",
   "execution_count": 26,
   "metadata": {},
   "outputs": [
    {
     "data": {
      "text/plain": [
       "5211.409226172791"
      ]
     },
     "execution_count": 26,
     "metadata": {},
     "output_type": "execute_result"
    }
   ],
   "source": [
    "mem_shard=Wnorms(f4)\n",
    "#np.sort(np.array(b['Wnorm']))\n",
    "sum(mem_shard['Wnorm'])"
   ]
  },
  {
   "cell_type": "code",
   "execution_count": 27,
   "metadata": {},
   "outputs": [
    {
     "data": {
      "text/plain": [
       "[<matplotlib.lines.Line2D at 0x7f794a5ca0d0>]"
      ]
     },
     "execution_count": 27,
     "metadata": {},
     "output_type": "execute_result"
    },
    {
     "data": {
      "image/png": "[encoded data removed]",
      "text/plain": [
       "<Figure size 432x288 with 1 Axes>"
      ]
     },
     "metadata": {
      "needs_background": "light"
     },
     "output_type": "display_data"
    }
   ],
   "source": [
    "r2_ch_rl = mem_shard['Wnorm']/cache['Wnorm']\n",
    "plt.hlines(1.0, xmin=0, xmax=len(r2_ch_rl), color='red')\n",
    "plt.plot(sorted(r2_ch_rl),marker='o',alpha=0.3)\n"
   ]
  },
  {
   "cell_type": "code",
   "execution_count": 28,
   "metadata": {},
   "outputs": [
    {
     "data": {
      "text/plain": [
       "[<matplotlib.lines.Line2D at 0x7f794a5b0910>]"
      ]
     },
     "execution_count": 28,
     "metadata": {},
     "output_type": "execute_result"
    },
    {
     "data": {
      "image/png": "[encoded data removed]",
      "text/plain": [
       "<Figure size 432x288 with 1 Axes>"
      ]
     },
     "metadata": {
      "needs_background": "light"
     },
     "output_type": "display_data"
    }
   ],
   "source": [
    "r2_ch_rl = bounded['Wnorm']/cache['Wnorm']\n",
    "plt.hlines(1.0, xmin=0, xmax=len(r2_ch_rl), color='red')\n",
    "plt.plot(sorted(r2_ch_rl),marker='o',alpha=0.3)\n"
   ]
  },
  {
   "cell_type": "code",
   "execution_count": 29,
   "metadata": {},
   "outputs": [
    {
     "data": {
      "text/plain": [
       "6927.914937501476"
      ]
     },
     "execution_count": 29,
     "metadata": {},
     "output_type": "execute_result"
    }
   ],
   "source": [
    "round_robin=Wnorms(f5)\n",
    "#np.sort(np.array(b['Wnorm']))\n",
    "sum(round_robin['Wnorm'])"
   ]
  },
  {
   "cell_type": "code",
   "execution_count": 30,
   "metadata": {},
   "outputs": [
    {
     "data": {
      "text/plain": [
       "[<matplotlib.lines.Line2D at 0x7f794a524550>]"
      ]
     },
     "execution_count": 30,
     "metadata": {},
     "output_type": "execute_result"
    },
    {
     "data": {
      "image/png": "[encoded data removed]",
      "text/plain": [
       "<Figure size 432x288 with 1 Axes>"
      ]
     },
     "metadata": {
      "needs_background": "light"
     },
     "output_type": "display_data"
    }
   ],
   "source": [
    "r2_ch_rl = round_robin['Wnorm']/cache['Wnorm']\n",
    "plt.hlines(1.0, xmin=0, xmax=len(r2_ch_rl), color='red')\n",
    "plt.plot(sorted(r2_ch_rl),marker='o',alpha=0.3)\n"
   ]
  },
  {
   "cell_type": "code",
   "execution_count": 31,
   "metadata": {},
   "outputs": [
    {
     "data": {
      "text/plain": [
       "Series([], Name: Wnorm, dtype: float64)"
      ]
     },
     "execution_count": 31,
     "metadata": {},
     "output_type": "execute_result"
    }
   ],
   "source": [
    "r2_ch_rl[r2_ch_rl<1.0]"
   ]
  },
  {
   "cell_type": "code",
   "execution_count": 32,
   "metadata": {},
   "outputs": [
    {
     "data": {
      "text/plain": [
       "[<matplotlib.lines.Line2D at 0x7f794a488040>]"
      ]
     },
     "execution_count": 32,
     "metadata": {},
     "output_type": "execute_result"
    },
    {
     "data": {
      "image/png": "[encoded data removed]",
      "text/plain": [
       "<Figure size 432x288 with 1 Axes>"
      ]
     },
     "metadata": {
      "needs_background": "light"
     },
     "output_type": "display_data"
    }
   ],
   "source": [
    "plt.plot((bounded['norm'])/(cache['norm']))"
   ]
  }
 ],
 "metadata": {
  "interpreter": {
   "hash": "8ef072a551901a5226aaf4a69456bb145c43c37bec37224a9368e6d60e2dc8fd"
  },
  "kernelspec": {
   "display_name": "Python 3.8.2 64-bit ('3.8.2': pyenv)",
   "name": "python3"
  },
  "language_info": {
   "codemirror_mode": {
    "name": "ipython",
    "version": 3
   },
   "file_extension": ".py",
   "mimetype": "text/x-python",
   "name": "python",
   "nbconvert_exporter": "python",
   "pygments_lexer": "ipython3",
   "version": "3.8.2"
  }
 },
 "nbformat": 4,
 "nbformat_minor": 2
}
